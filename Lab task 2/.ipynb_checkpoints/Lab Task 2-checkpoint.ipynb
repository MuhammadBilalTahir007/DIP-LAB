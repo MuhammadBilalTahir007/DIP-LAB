{
 "cells": [
  {
   "cell_type": "markdown",
   "id": "ba4b3c7e-0515-4bd4-b04e-8f2ba207cb8f",
   "metadata": {},
   "source": [
    "# Digital Image Processing Lab\n",
    "## Lab 2\n",
    "## Bahria University Islamabad\n",
    "\n",
    "Name: Muhammad Bilal Tahir\n",
    "Enrollment: 01-134211-054\n",
    "Class-Section: BSCS 7-B  "
   ]
  },
  {
   "cell_type": "code",
   "execution_count": null,
   "id": "96b355b6-699f-4686-8890-c4ee01de9c45",
   "metadata": {},
   "outputs": [],
   "source": []
  }
 ],
 "metadata": {
  "kernelspec": {
   "display_name": "Python 3 (ipykernel)",
   "language": "python",
   "name": "python3"
  },
  "language_info": {
   "codemirror_mode": {
    "name": "ipython",
    "version": 3
   },
   "file_extension": ".py",
   "mimetype": "text/x-python",
   "name": "python",
   "nbconvert_exporter": "python",
   "pygments_lexer": "ipython3",
   "version": "3.12.4"
  }
 },
 "nbformat": 4,
 "nbformat_minor": 5
}
